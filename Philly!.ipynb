{
    "nbformat_minor": 2, 
    "cells": [
        {
            "execution_count": 1, 
            "cell_type": "code", 
            "metadata": {}, 
            "outputs": [
                {
                    "output_type": "stream", 
                    "name": "stdout", 
                    "text": "Solving environment: done\n\n## Package Plan ##\n\n  environment location: /opt/conda/envs/Python36\n\n  added / updated specs: \n    - geopy\n\n\nThe following packages will be downloaded:\n\n    package                    |            build\n    ---------------------------|-----------------\n    _libgcc_mutex-0.1          |             main           3 KB\n    wheel-0.33.4               |           py37_0          34 KB  conda-forge\n    libffi-3.2.1               |    he1b5a44_1006          46 KB  conda-forge\n    sqlite-3.28.0              |       hcee41ef_1         1.9 MB  conda-forge\n    setuptools-41.0.1          |           py37_0         616 KB  conda-forge\n    python-3.7.3               |       h33d41f4_1        36.0 MB  conda-forge\n    ca-certificates-2019.6.16  |       hecc5488_0         145 KB  conda-forge\n    readline-8.0               |       hf8c457e_0         441 KB  conda-forge\n    openssl-1.1.1b             |       h14c3975_1         4.0 MB  conda-forge\n    tk-8.6.9                   |    hed695b0_1002         3.2 MB  conda-forge\n    certifi-2019.6.16          |           py37_0         148 KB  conda-forge\n    bzip2-1.0.6                |    h14c3975_1002         415 KB  conda-forge\n    pip-19.1.1                 |           py37_0         1.8 MB  conda-forge\n    ncurses-6.1                |    hf484d3e_1002         1.3 MB  conda-forge\n    zlib-1.2.11                |    h14c3975_1004         101 KB  conda-forge\n    geopy-1.20.0               |             py_0          57 KB  conda-forge\n    xz-5.2.4                   |    h14c3975_1001         366 KB  conda-forge\n    libgcc-ng-9.1.0            |       hdf63c60_0         8.1 MB\n    geographiclib-1.49         |             py_0          32 KB  conda-forge\n    ------------------------------------------------------------\n                                           Total:        58.6 MB\n\nThe following NEW packages will be INSTALLED:\n\n    _libgcc_mutex:        0.1-main                     \n    geographiclib:        1.49-py_0         conda-forge\n    geopy:                1.20.0-py_0       conda-forge\n\nThe following packages will be UPDATED:\n\n    boto3:                1.9.82-py_0                   --> 1.9.82-py_0                     \n    botocore:             1.12.82-py_0                  --> 1.12.82-py_0                    \n    bzip2:                1.0.6-h14c3975_5              --> 1.0.6-h14c3975_1002  conda-forge\n    ca-certificates:      2019.5.15-0                   --> 2019.6.16-hecc5488_0 conda-forge\n    certifi:              2019.3.9-py36_0               --> 2019.6.16-py37_0     conda-forge\n    cloudpickle:          0.7.0-py_0                    --> 0.7.0-py_0                      \n    dask:                 1.1.1-py_0                    --> 1.1.1-py_0                      \n    dask-core:            1.1.1-py_0                    --> 1.1.1-py_0                      \n    libffi:               3.2.1-hd88cf55_4              --> 3.2.1-he1b5a44_1006  conda-forge\n    libgcc-ng:            8.2.0-hdf63c60_1              --> 9.1.0-hdf63c60_0                \n    ncurses:              6.1-he6710b0_1                --> 6.1-hf484d3e_1002    conda-forge\n    pbr:                  5.1.3-py_0                    --> 5.1.3-py_0                      \n    pip:                  19.1.1-py36_0                 --> 19.1.1-py37_0        conda-forge\n    prompt_toolkit:       2.0.8-py_0                    --> 2.0.8-py_0                      \n    pyshp:                2.1.0-py_0                    --> 2.1.0-py_0                      \n    python:               3.6.8-h0371630_0              --> 3.7.3-h33d41f4_1     conda-forge\n    qtawesome:            0.5.6-py_0                    --> 0.5.6-py_0                      \n    qtpy:                 1.6.0-py_0                    --> 1.6.0-py_0                      \n    readline:             7.0-h7b6447c_5                --> 8.0-hf8c457e_0       conda-forge\n    rope:                 0.11.0-py_0                   --> 0.11.0-py_0                     \n    setuptools:           40.8.0-py36_0                 --> 41.0.1-py37_0        conda-forge\n    sqlite:               3.26.0-h7b6447c_0             --> 3.28.0-hcee41ef_1    conda-forge\n    tensorflow-estimator: 1.13.0-py_0                   --> 1.13.0-py_0                     \n    tk:                   8.6.8-hbc83047_0              --> 8.6.9-hed695b0_1002  conda-forge\n    wheel:                0.32.3-py36_0                 --> 0.33.4-py37_0        conda-forge\n    xz:                   5.2.4-h14c3975_4              --> 5.2.4-h14c3975_1001  conda-forge\n    zlib:                 1.2.11-h7b6447c_3             --> 1.2.11-h14c3975_1004 conda-forge\n\nThe following packages will be DOWNGRADED:\n\n    openssl:              1.1.1c-h7b6447c_1             --> 1.1.1b-h14c3975_1    conda-forge\n\n\nDownloading and Extracting Packages\n_libgcc_mutex-0.1    | 3 KB      | ##################################### | 100% \nwheel-0.33.4         | 34 KB     | ##################################### | 100% \nlibffi-3.2.1         | 46 KB     | ##################################### | 100% \nsqlite-3.28.0        | 1.9 MB    | ##################################### | 100% \nsetuptools-41.0.1    | 616 KB    | ##################################### | 100% \npython-3.7.3         | 36.0 MB   | ##################################### | 100% \nca-certificates-2019 | 145 KB    | ##################################### | 100% \nreadline-8.0         | 441 KB    | ##################################### | 100% \nopenssl-1.1.1b       | 4.0 MB    | ##################################### | 100% \ntk-8.6.9             | 3.2 MB    | ##################################### | 100% \ncertifi-2019.6.16    | 148 KB    | ##################################### | 100% \nbzip2-1.0.6          | 415 KB    | ##################################### | 100% \npip-19.1.1           | 1.8 MB    | ##################################### | 100% \nncurses-6.1          | 1.3 MB    | ##################################### | 100% \nzlib-1.2.11          | 101 KB    | ##################################### | 100% \ngeopy-1.20.0         | 57 KB     | ##################################### | 100% \nxz-5.2.4             | 366 KB    | ##################################### | 100% \nlibgcc-ng-9.1.0      | 8.1 MB    | ##################################### | 100% \ngeographiclib-1.49   | 32 KB     | ##################################### | 100% \nPreparing transaction: done\nVerifying transaction: done\nExecuting transaction: done\nSolving environment: done\n\n## Package Plan ##\n\n  environment location: /opt/conda/envs/Python36\n\n  added / updated specs: \n    - folium=0.5.0\n\n\nThe following packages will be downloaded:\n\n    package                    |            build\n    ---------------------------|-----------------\n    pytz-2019.1                |             py_0         227 KB  conda-forge\n    pyopenssl-19.0.0           |           py37_0          81 KB  conda-forge\n    vincent-0.4.4              |             py_1          28 KB  conda-forge\n    markupsafe-1.1.1           |   py37h14c3975_0          26 KB  conda-forge\n    urllib3-1.24.3             |           py37_0         151 KB  conda-forge\n    asn1crypto-0.24.0          |        py37_1003         154 KB  conda-forge\n    jinja2-2.10.1              |             py_0          91 KB  conda-forge\n    pyrsistent-0.15.2          |   py37h516909a_0          89 KB  conda-forge\n    altair-3.1.0               |           py37_0         724 KB  conda-forge\n    requests-2.22.0            |           py37_0          84 KB  conda-forge\n    pycparser-2.19             |           py37_1         171 KB  conda-forge\n    cryptography-2.7           |   py37h72c5cf5_0         610 KB  conda-forge\n    folium-0.5.0               |             py_0          45 KB  conda-forge\n    attrs-19.1.0               |             py_0          32 KB  conda-forge\n    entrypoints-0.3            |        py37_1000          11 KB  conda-forge\n    mkl_random-1.0.2           |   py37h637b7d7_2         373 KB  conda-forge\n    toolz-0.9.0                |             py_1          42 KB  conda-forge\n    six-1.12.0                 |        py37_1000          22 KB  conda-forge\n    branca-0.3.1               |             py_0          25 KB  conda-forge\n    jsonschema-3.0.1           |           py37_0          85 KB  conda-forge\n    mkl_fft-1.0.11             |   py37h14c3975_0         167 KB  conda-forge\n    pandas-0.24.2              |   py37hb3f55d8_0        11.1 MB  conda-forge\n    pysocks-1.7.0              |           py37_0          26 KB  conda-forge\n    numpy-base-1.16.2          |   py37hde5b4d6_0         4.3 MB\n    chardet-3.0.4              |        py37_1003         167 KB  conda-forge\n    numpy-1.16.2               |   py37h7e9f1db_0          49 KB\n    idna-2.8                   |        py37_1000         100 KB  conda-forge\n    cffi-1.12.3                |   py37h8022711_0         218 KB  conda-forge\n    python-dateutil-2.8.0      |             py_0         219 KB  conda-forge\n    ------------------------------------------------------------\n                                           Total:        19.3 MB\n\nThe following NEW packages will be INSTALLED:\n\n    altair:          3.1.0-py37_0          conda-forge\n    branca:          0.3.1-py_0            conda-forge\n    folium:          0.5.0-py_0            conda-forge\n    pyrsistent:      0.15.2-py37h516909a_0 conda-forge\n    vincent:         0.4.4-py_1            conda-forge\n\nThe following packages will be UPDATED:\n\n    asn1crypto:      0.24.0-py36_0                     --> 0.24.0-py37_1003      conda-forge\n    attrs:           18.2.0-py36h28b3542_0             --> 19.1.0-py_0           conda-forge\n    cffi:            1.11.5-py36he75722e_1             --> 1.12.3-py37h8022711_0 conda-forge\n    chardet:         3.0.4-py36_1                      --> 3.0.4-py37_1003       conda-forge\n    cryptography:    2.5-py36h1ba5d50_0                --> 2.7-py37h72c5cf5_0    conda-forge\n    entrypoints:     0.3-py36_0                        --> 0.3-py37_1000         conda-forge\n    idna:            2.8-py36_0                        --> 2.8-py37_1000         conda-forge\n    jinja2:          2.10-py36_0                       --> 2.10.1-py_0           conda-forge\n    jsonschema:      2.6.0-py36_0                      --> 3.0.1-py37_0          conda-forge\n    markupsafe:      1.1.0-py36h7b6447c_0              --> 1.1.1-py37h14c3975_0  conda-forge\n    mkl_fft:         1.0.10-py36ha843d7b_0             --> 1.0.11-py37h14c3975_0 conda-forge\n    mkl_random:      1.0.2-py36hd81dba3_0              --> 1.0.2-py37h637b7d7_2  conda-forge\n    numpy:           1.15.4-py36h7e9f1db_0             --> 1.16.2-py37h7e9f1db_0            \n    numpy-base:      1.15.4-py36hde5b4d6_0             --> 1.16.2-py37hde5b4d6_0            \n    pandas:          0.24.1-py36he6710b0_0             --> 0.24.2-py37hb3f55d8_0 conda-forge\n    pycparser:       2.19-py36_0                       --> 2.19-py37_1           conda-forge\n    pyopenssl:       19.0.0-py36_0                     --> 19.0.0-py37_0         conda-forge\n    pysocks:         1.6.8-py36_0                      --> 1.7.0-py37_0          conda-forge\n    python-dateutil: 2.7.5-py36_0                      --> 2.8.0-py_0            conda-forge\n    pytz:            2018.9-py36_0                     --> 2019.1-py_0           conda-forge\n    requests:        2.21.0-py36_0                     --> 2.22.0-py37_0         conda-forge\n    six:             1.12.0-py36_0                     --> 1.12.0-py37_1000      conda-forge\n    toolz:           0.9.0-py36_0                      --> 0.9.0-py_1            conda-forge\n    urllib3:         1.24.1-py36_0                     --> 1.24.3-py37_0         conda-forge\n\n\nDownloading and Extracting Packages\npytz-2019.1          | 227 KB    | ##################################### | 100% \npyopenssl-19.0.0     | 81 KB     | ##################################### | 100% \nvincent-0.4.4        | 28 KB     | ##################################### | 100% \nmarkupsafe-1.1.1     | 26 KB     | ##################################### | 100% \nurllib3-1.24.3       | 151 KB    | ##################################### | 100% \nasn1crypto-0.24.0    | 154 KB    | ##################################### | 100% \njinja2-2.10.1        | 91 KB     | ##################################### | 100% \npyrsistent-0.15.2    | 89 KB     | ##################################### | 100% \naltair-3.1.0         | 724 KB    | ##################################### | 100% \nrequests-2.22.0      | 84 KB     | ##################################### | 100% \npycparser-2.19       | 171 KB    | ##################################### | 100% \ncryptography-2.7     | 610 KB    | ##################################### | 100% \nfolium-0.5.0         | 45 KB     | ##################################### | 100% \nattrs-19.1.0         | 32 KB     | ##################################### | 100% \nentrypoints-0.3      | 11 KB     | ##################################### | 100% \nmkl_random-1.0.2     | 373 KB    | ##################################### | 100% \ntoolz-0.9.0          | 42 KB     | ##################################### | 100% \nsix-1.12.0           | 22 KB     | ##################################### | 100% \nbranca-0.3.1         | 25 KB     | ##################################### | 100% \njsonschema-3.0.1     | 85 KB     | ##################################### | 100% \nmkl_fft-1.0.11       | 167 KB    | ##################################### | 100% \npandas-0.24.2        | 11.1 MB   | ##################################### | 100% \npysocks-1.7.0        | 26 KB     | ##################################### | 100% \nnumpy-base-1.16.2    | 4.3 MB    | ##################################### | 100% \nchardet-3.0.4        | 167 KB    | ##################################### | 100% \nnumpy-1.16.2         | 49 KB     | ##################################### | 100% \nidna-2.8             | 100 KB    | ##################################### | 100% \ncffi-1.12.3          | 218 KB    | ##################################### | 100% \npython-dateutil-2.8. | 219 KB    | ##################################### | 100% \nPreparing transaction: done\nVerifying transaction: done\nExecuting transaction: done\n"
                }, 
                {
                    "ename": "ModuleNotFoundError", 
                    "evalue": "No module named 'folium'", 
                    "traceback": [
                        "\u001b[0;31m---------------------------------------------------------------------------\u001b[0m", 
                        "\u001b[0;31mModuleNotFoundError\u001b[0m                       Traceback (most recent call last)", 
                        "\u001b[0;32m<ipython-input-1-5296a0998fac>\u001b[0m in \u001b[0;36m<module>\u001b[0;34m\u001b[0m\n\u001b[1;32m     12\u001b[0m \u001b[0;34m\u001b[0m\u001b[0m\n\u001b[1;32m     13\u001b[0m \u001b[0mget_ipython\u001b[0m\u001b[0;34m(\u001b[0m\u001b[0;34m)\u001b[0m\u001b[0;34m.\u001b[0m\u001b[0msystem\u001b[0m\u001b[0;34m(\u001b[0m\u001b[0;34m'conda install -c conda-forge folium=0.5.0 --yes'\u001b[0m\u001b[0;34m)\u001b[0m\u001b[0;34m\u001b[0m\u001b[0;34m\u001b[0m\u001b[0m\n\u001b[0;32m---> 14\u001b[0;31m \u001b[0;32mimport\u001b[0m \u001b[0mfolium\u001b[0m\u001b[0;34m\u001b[0m\u001b[0;34m\u001b[0m\u001b[0m\n\u001b[0m", 
                        "\u001b[0;31mModuleNotFoundError\u001b[0m: No module named 'folium'"
                    ], 
                    "output_type": "error"
                }
            ], 
            "source": "import numpy as np\nimport requests\nfrom bs4 import BeautifulSoup\nimport urllib.request\nimport pandas as pd\nfrom pandas.io.json import json_normalize\n\n!conda install -c conda-forge geopy --yes\n\nimport matplotlib.cm as cm\nimport matplotlib.colors as colors\n\n!conda install -c conda-forge folium=0.5.0 --yes\nimport folium"
        }, 
        {
            "execution_count": 2, 
            "cell_type": "code", 
            "metadata": {}, 
            "outputs": [], 
            "source": "#Gets the url and scrapes the html \nurl = 'http://ciclt.net/sn/clt/capitolimpact/gw_ziplist.aspx?ClientCode=capitolimpact&State=pa&StName=Pennsylvania&StFIPS=42&FIPS=42101'\nreq = urllib.request.urlopen(url)\n\nsoup = BeautifulSoup(req)"
        }, 
        {
            "execution_count": null, 
            "cell_type": "code", 
            "metadata": {}, 
            "outputs": [], 
            "source": "#Finds the table to scrape\ntable = soup.find('table')\n\n#Provides the empty arrays for the html tags that are being grabbed and assigned to the headings\nP = []\nC = []\n\nfor row in table.find_all('tr'):\n    cells = row.find_all('td')\n    if len(cells) == 3:\n        P.append(cells[0].find(text=True))\n        C.append(cells[1].find(text=True))"
        }, 
        {
            "execution_count": null, 
            "cell_type": "code", 
            "metadata": {}, 
            "outputs": [], 
            "source": "#Creates the dataframe and places the data in its respective columns\ndf_phil = pd.DataFrame(P, columns=['PostalCode'])\ndf_phil['City'] = C\ndf_phil.head()"
        }, 
        {
            "execution_count": null, 
            "cell_type": "code", 
            "metadata": {}, 
            "outputs": [], 
            "source": "#A specialized function that joins the neighborhoods with the same postalcode\nfoo = lambda a: ','.join(a) \ndf_phil = df_phil.groupby(['PostalCode']).agg({\n                                'City': foo}).reset_index()"
        }, 
        {
            "execution_count": null, 
            "cell_type": "code", 
            "metadata": {}, 
            "outputs": [], 
            "source": "df_phil.head()"
        }, 
        {
            "execution_count": null, 
            "cell_type": "code", 
            "metadata": {}, 
            "outputs": [], 
            "source": "df_lonlat = pd.read_csv('https://public.opendatasoft.com/explore/dataset/us-zip-code-latitude-and-longitude/download/?format=csv&refine.state=PA&q=philadelphia&timezone=America/New_York&use_labels_for_header=true', delimiter=';')\ndf_lonlat.head(20)"
        }, 
        {
            "execution_count": null, 
            "cell_type": "code", 
            "metadata": {}, 
            "outputs": [], 
            "source": "df_lonlat.drop(['City', 'State', 'Timezone', 'Daylight savings time flag', 'geopoint'], axis=1, inplace=True)\ndf_lonlat.head()"
        }, 
        {
            "execution_count": null, 
            "cell_type": "code", 
            "metadata": {}, 
            "outputs": [], 
            "source": "df_lonlat.rename(columns={'Zip':'PostalCode'}, inplace=True)"
        }, 
        {
            "execution_count": null, 
            "cell_type": "code", 
            "metadata": {}, 
            "outputs": [], 
            "source": "df_phil.PostalCode = df_phil.PostalCode.astype(int)"
        }, 
        {
            "execution_count": null, 
            "cell_type": "code", 
            "metadata": {}, 
            "outputs": [], 
            "source": "df_phil = pd.merge(df_phil, df_lonlat, on='PostalCode', how='outer')"
        }, 
        {
            "execution_count": null, 
            "cell_type": "code", 
            "metadata": {}, 
            "outputs": [], 
            "source": "!pip install folium"
        }, 
        {
            "execution_count": null, 
            "cell_type": "code", 
            "metadata": {}, 
            "outputs": [], 
            "source": "address = 'Philadelphia, Pennsylvania'\n\ngeolocator = Nominatim(user_agent=\"foursquare_agent\")\nlocation = geolocator.geocode(address)\nlatitude = location.latitude\nlongitude = location.longitude\nprint(latitude, longitude)"
        }, 
        {
            "execution_count": null, 
            "cell_type": "code", 
            "metadata": {}, 
            "outputs": [], 
            "source": "# create map of Philadelphia using latitude and longitude values\nmap_phil = folium.Map(location=[39.9524152, -75.1635755], zoom_start=11)\n\n# add markers to map\nfor lat, lng, label in zip(df_phil['Latitude'], df_phil['Longitude'], df_phil['City']):\n    label = folium.Popup(label, parse_html=True)\n    folium.CircleMarker(\n        [lat, lng],\n        radius=5,\n        popup=label,\n        color='blue',\n        fill=True,\n        fill_color='#3186cc',\n        fill_opacity=0.7,\n        parse_html=False).add_to(map_phil)  \n    \nmap_phil"
        }, 
        {
            "execution_count": null, 
            "cell_type": "code", 
            "metadata": {}, 
            "outputs": [], 
            "source": "#Gets the url and scrapes the html \nurl1 = 'https://www.zipdatamaps.com/zipcodes-philadelphia-pa'\nreq1 = urllib.request.urlopen(url1)\n\nsoup1 = BeautifulSoup(req1)"
        }, 
        {
            "execution_count": null, 
            "cell_type": "code", 
            "metadata": {}, 
            "outputs": [], 
            "source": "table1 = soup1.find('table', class_='table')\n\nPost = []\nPop = []\n\nfor row in table1.find_all('tr'):\n    cells = row.find_all('td')\n    if len(cells) == 8:\n        Post.append(cells[0].find(text=True))\n        Pop.append(cells[5].find(text=True))"
        }, 
        {
            "execution_count": null, 
            "cell_type": "code", 
            "metadata": {}, 
            "outputs": [], 
            "source": "df_pop = pd.DataFrame(Post, columns=['PostalCode'])\ndf_pop['Population'] = Pop"
        }, 
        {
            "execution_count": null, 
            "cell_type": "code", 
            "metadata": {}, 
            "outputs": [], 
            "source": "df_pop.PostalCode = df_pop.PostalCode.astype(int)"
        }, 
        {
            "execution_count": null, 
            "cell_type": "code", 
            "metadata": {}, 
            "outputs": [], 
            "source": "df_merged = pd.merge(df_phil, df_pop, on='PostalCode', how='outer')"
        }, 
        {
            "execution_count": null, 
            "cell_type": "code", 
            "metadata": {}, 
            "outputs": [], 
            "source": "df_merged = df_merged.dropna()"
        }, 
        {
            "execution_count": null, 
            "cell_type": "code", 
            "metadata": {}, 
            "outputs": [], 
            "source": "df_merged.head()"
        }, 
        {
            "execution_count": null, 
            "cell_type": "code", 
            "metadata": {}, 
            "outputs": [], 
            "source": "# define Foursquare Credentials and Version\nCLIENT_ID = 'PKVKP4RSK1UDWBSX241ZZ2BFGZ2055XNG13MU1OZ5G4HO0FY' # your Foursquare ID\nCLIENT_SECRET = 'IGWQRC4QT0EDQ0SSRIB4MEURVPRJ2TYL2LJP1BK55TZVGDIU' # your Foursquare Secret\nVERSION = '20180605' # Foursquare API version\n\nprint('Your credentails:')\nprint('CLIENT_ID: ' + CLIENT_ID)\nprint('CLIENT_SECRET:' + CLIENT_SECRET)"
        }, 
        {
            "execution_count": null, 
            "cell_type": "code", 
            "metadata": {}, 
            "outputs": [], 
            "source": "first_nei = df_merged['PostalCode'][2]\nfirst_nei"
        }, 
        {
            "execution_count": null, 
            "cell_type": "code", 
            "metadata": {}, 
            "outputs": [], 
            "source": "first_nei_lat = df_merged.loc[2,'Latitude']\nfirst_nei_lon = df_merged.loc[2,'Longitude']\nprint('Latitude and longitude values of {} are {}, {}.'.format(first_nei, \n                                                               first_nei_lat, \n                                                               first_nei_lon))\n"
        }, 
        {
            "execution_count": null, 
            "cell_type": "code", 
            "metadata": {}, 
            "outputs": [], 
            "source": "radius = 500 \nLIMIT = 100\nurl = 'https://api.foursquare.com/v2/venues/explore?&client_id={}&client_secret={}&v={}&ll={},{}&radius={}&limit={}'.format(\n    CLIENT_ID, \n    CLIENT_SECRET, \n    VERSION, \n    first_nei_lat, \n    first_nei_lon, \n    radius, \n    LIMIT)"
        }, 
        {
            "execution_count": null, 
            "cell_type": "code", 
            "metadata": {}, 
            "outputs": [], 
            "source": "results = requests.get(url).json()\nresults"
        }, 
        {
            "execution_count": null, 
            "cell_type": "code", 
            "metadata": {}, 
            "outputs": [], 
            "source": "results['response']['groups'][0]['items'][0]['venue']['categories'][0]['name']"
        }, 
        {
            "execution_count": null, 
            "cell_type": "code", 
            "metadata": {}, 
            "outputs": [], 
            "source": "venues=results['response']['groups'][0]['items']\nnearby_venues = json_normalize(venues)\nnearby_venues.columns"
        }, 
        {
            "execution_count": null, 
            "cell_type": "code", 
            "metadata": {}, 
            "outputs": [], 
            "source": "def get_category_type(row):\n    try:\n        categories_list = row['categories']\n    except:\n        categories_list = row['venue.categories']\n        \n    if len(categories_list) == 0:\n        return None\n    else:\n        return categories_list[0]['name']"
        }, 
        {
            "execution_count": null, 
            "cell_type": "code", 
            "metadata": {}, 
            "outputs": [], 
            "source": "filtered_columns = ['venue.name', 'venue.categories', 'venue.location.lat', 'venue.location.lng']\nnearby_venues = nearby_venues.loc[:, filtered_columns]\nnearby_venues"
        }, 
        {
            "execution_count": null, 
            "cell_type": "code", 
            "metadata": {}, 
            "outputs": [], 
            "source": "nearby_venues['venue.categories'] = nearby_venues.apply(get_category_type, axis=1)\n\nnearby_venues.columns = [col.split(\".\")[-1] for col in nearby_venues.columns]\n\nnearby_venues"
        }, 
        {
            "execution_count": null, 
            "cell_type": "code", 
            "metadata": {}, 
            "outputs": [], 
            "source": "def getNearbyVenues(names, latitudes, longitudes, radius=500):\n    \n    venues_list=[]\n    for name, lat, lng in zip(names, latitudes, longitudes):\n        print(name)\n            \n        # create the API request URL\n        url = 'https://api.foursquare.com/v2/venues/explore?&client_id={}&client_secret={}&v={}&ll={},{}&radius={}&limit={}'.format(\n            CLIENT_ID, \n            CLIENT_SECRET, \n            VERSION, \n            lat, \n            lng, \n            radius, \n            LIMIT)\n            \n        # make the GET request\n        venue_results = requests.get(url).json()[\"response\"]['groups'][0]['items']\n        \n        # return only relevant information for each nearby venue\n        venues_list.append([(\n            name, \n            lat, \n            lng, \n            v['venue']['name'], \n            v['venue']['location']['lat'], \n            v['venue']['location']['lng'],  \n            v['venue']['categories'][0]['name']) for v in venue_results])\n    nearby_venues = pd.DataFrame([item for venue_list in venues_list for item in venue_list])\n    nearby_venues.columns = ['PostalCode', \n                  'Neighborhood Latitude', \n                  'Neighborhood Longitude', \n                  'Venue', \n                  'Venue Latitude', \n                  'Venue Longitude', \n                  'Venue Category']\n    \n    return(nearby_venues)"
        }, 
        {
            "execution_count": null, 
            "cell_type": "code", 
            "metadata": {}, 
            "outputs": [], 
            "source": "phil_venues = getNearbyVenues(names = df_merged['PostalCode'],\n                                   latitudes = df_merged['Latitude'],\n                                   longitudes = df_merged['Longitude']\n                                  )"
        }, 
        {
            "execution_count": null, 
            "cell_type": "code", 
            "metadata": {}, 
            "outputs": [], 
            "source": "print(phil_venues.shape)\nphil_venues.head()"
        }, 
        {
            "execution_count": null, 
            "cell_type": "code", 
            "metadata": {}, 
            "outputs": [], 
            "source": "phil_venues.groupby('PostalCode').count()"
        }, 
        {
            "execution_count": null, 
            "cell_type": "code", 
            "metadata": {}, 
            "outputs": [], 
            "source": "print('There are {} unique categories.'.format(len(phil_venues['Venue Category'].unique())))"
        }, 
        {
            "execution_count": null, 
            "cell_type": "code", 
            "metadata": {}, 
            "outputs": [], 
            "source": "phil_onehot = pd.get_dummies(phil_venues[['Venue Category']], prefix=\"\", prefix_sep=\"\")\n\nphil_onehot['PostalCode'] = phil_venues['PostalCode'] \n\nfixed_columns = [phil_onehot.columns[-1]] + list(phil_onehot.columns[:-1])\nphil_onehot = phil_onehot[fixed_columns]\nphil_onehot.head()"
        }, 
        {
            "execution_count": null, 
            "cell_type": "code", 
            "metadata": {}, 
            "outputs": [], 
            "source": "phil_grouped = phil_onehot.groupby('PostalCode').mean().reset_index()\nphil_grouped"
        }, 
        {
            "execution_count": null, 
            "cell_type": "code", 
            "metadata": {}, 
            "outputs": [], 
            "source": "phil_grouped.PostalCode = phil_grouped.PostalCode.astype(str)"
        }, 
        {
            "execution_count": null, 
            "cell_type": "code", 
            "metadata": {}, 
            "outputs": [], 
            "source": "num_top_venues = 5\nfor code in phil_grouped['PostalCode']:\n    print(\"----\"+code+\"----\")\n    temp = phil_grouped[phil_grouped['PostalCode'] == code].T.reset_index()\n    temp.columns = ['venue','freq']\n    temp = temp.iloc[1:]\n    temp['freq'] = temp['freq'].astype(float)\n    temp = temp.round({'freq': 2})\n    print(temp.sort_values('freq', ascending=False).reset_index(drop=True).head(num_top_venues))\n    print('\\n')"
        }, 
        {
            "execution_count": null, 
            "cell_type": "code", 
            "metadata": {}, 
            "outputs": [], 
            "source": "def return_most_common_venues(row, num_top_venues):\n    row_categories = row.iloc[1:]\n    row_categories_sorted = row_categories.sort_values(ascending=False)\n    \n    return row_categories_sorted.index.values[0:num_top_venues]"
        }, 
        {
            "execution_count": null, 
            "cell_type": "code", 
            "metadata": {}, 
            "outputs": [], 
            "source": "phil_grouped.PostalCode = phil_grouped.PostalCode.astype(int)\n\nnum_top_venues = 10\n\nindicators = ['st', 'nd', 'rd']\n\ncolumns = ['PostalCode']\nfor ind in np.arange(num_top_venues):\n    try:\n        columns.append('{}{} Most Common Venue'.format(ind+1, indicators[ind]))\n    except:\n        columns.append('{}th Most Common Venue'.format(ind+1))\n\nneighborhoods_venues_sorted = pd.DataFrame(columns=columns)\nneighborhoods_venues_sorted['PostalCode'] = phil_grouped['PostalCode']\n\nfor ind in np.arange(phil_grouped.shape[0]):\n    neighborhoods_venues_sorted.iloc[ind, 1:] = return_most_common_venues(phil_grouped.iloc[ind, :], num_top_venues)\n\nneighborhoods_venues_sorted"
        }, 
        {
            "execution_count": null, 
            "cell_type": "code", 
            "metadata": {}, 
            "outputs": [], 
            "source": "from sklearn.cluster import KMeans\n\nkclusters = 3\n\nphil_grouped_clustering = phil_grouped.drop('PostalCode', 1)\n\nkmeans = KMeans(n_clusters=kclusters, random_state=0).fit(phil_grouped_clustering)\n\nkmeans.labels_"
        }, 
        {
            "execution_count": null, 
            "cell_type": "code", 
            "metadata": {}, 
            "outputs": [], 
            "source": "phil_merged = df_merged[0:47]\n\nphil_merged['Cluster Labels'] = kmeans.labels_\n\nphil_merged = phil_merged.join(neighborhoods_venues_sorted.set_index('PostalCode'), on='PostalCode')\n\nphil_merged.head()"
        }, 
        {
            "execution_count": null, 
            "cell_type": "code", 
            "metadata": {}, 
            "outputs": [], 
            "source": "map_clusters = folium.Map(location=[39.9524152, -75.1635755], zoom_start=11)\n\nx = np.arange(kclusters)\ncolors_array = cm.rainbow(np.linspace(0, 1, kclusters))\nrainbow = [colors.rgb2hex(i) for i in colors_array]\nprint(rainbow)\n\nmarkers_colors = []\nfor lat, lon, nei , cluster in zip(phil_merged['Latitude'], phil_merged['Longitude'], phil_merged['PostalCode'], phil_merged['Cluster Labels']):\n    label = folium.Popup(str(nei) + ' Cluster ' + str(cluster), parse_html=True)\n    folium.CircleMarker(\n        [lat, lon],\n        radius=5,\n        popup=label,\n        color=rainbow[cluster-1],\n        fill=True,\n        fill_color=rainbow[cluster-1],\n        fill_opacity=0.7).add_to(map_clusters)\n       \nmap_clusters"
        }, 
        {
            "execution_count": null, 
            "cell_type": "code", 
            "metadata": {}, 
            "outputs": [], 
            "source": "phil_merged.loc[phil_merged['Cluster Labels'] == 0, phil_merged.columns[[0] + list(range(5, phil_merged.shape[1]))]]"
        }, 
        {
            "execution_count": null, 
            "cell_type": "code", 
            "metadata": {}, 
            "outputs": [], 
            "source": ""
        }, 
        {
            "execution_count": null, 
            "cell_type": "code", 
            "metadata": {}, 
            "outputs": [], 
            "source": ""
        }, 
        {
            "execution_count": null, 
            "cell_type": "code", 
            "metadata": {}, 
            "outputs": [], 
            "source": ""
        }, 
        {
            "execution_count": null, 
            "cell_type": "code", 
            "metadata": {}, 
            "outputs": [], 
            "source": ""
        }, 
        {
            "execution_count": null, 
            "cell_type": "code", 
            "metadata": {}, 
            "outputs": [], 
            "source": ""
        }
    ], 
    "metadata": {
        "kernelspec": {
            "display_name": "Python 3.6", 
            "name": "python3", 
            "language": "python"
        }, 
        "language_info": {
            "mimetype": "text/x-python", 
            "nbconvert_exporter": "python", 
            "version": "3.6.8", 
            "name": "python", 
            "file_extension": ".py", 
            "pygments_lexer": "ipython3", 
            "codemirror_mode": {
                "version": 3, 
                "name": "ipython"
            }
        }
    }, 
    "nbformat": 4
}